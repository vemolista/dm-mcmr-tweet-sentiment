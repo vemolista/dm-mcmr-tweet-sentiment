{
 "nbformat": 4,
 "nbformat_minor": 2,
 "metadata": {
  "language_info": {
   "name": "python",
   "codemirror_mode": {
    "name": "ipython",
    "version": 3
   },
   "version": "3.7.3-final"
  },
  "orig_nbformat": 2,
  "file_extension": ".py",
  "mimetype": "text/x-python",
  "name": "python",
  "npconvert_exporter": "python",
  "pygments_lexer": "ipython3",
  "version": 3,
  "kernelspec": {
   "name": "python3",
   "display_name": "Python 3"
  }
 },
 "cells": [
  {
   "cell_type": "code",
   "execution_count": 4,
   "metadata": {},
   "outputs": [],
   "source": [
    "import GetOldTweets3 as got\n",
    "import json\n",
    "import numpy as np\n",
    "import csv"
   ]
  },
  {
   "cell_type": "code",
   "execution_count": 7,
   "metadata": {},
   "outputs": [],
   "source": [
    "def get_tweets(max_tweets, since, until, query, file_name):\n",
    "    tweetCriteria = got.manager.TweetCriteria().setMaxTweets(max_tweets).setSince(since).setUntil(until).setQuerySearch(query)\n",
    "    tweets = got.manager.TweetManager.getTweets(tweetCriteria)\n",
    "\n",
    "    #get text\n",
    "    tweetsText = []\n",
    "    for tweet in tweets:\n",
    "        tweetsText.append([tweet.text])\n",
    "\n",
    "    #write to csv\n",
    "    file = open(file_name, \"w\", newline='', encoding=\"utf-16\")\n",
    "    with file:\n",
    "        writer = csv.writer(file)\n",
    "        writer.writerows(tweetsText)"
   ]
  },
  {
   "cell_type": "code",
   "execution_count": 8,
   "metadata": {},
   "outputs": [
    {
     "output_type": "stream",
     "name": "stdout",
     "text": "checkpoint 1\ncheckpoint 1\ncheckpoint 2\ncheckpoint 3\ncheckpoint 4\ncheckpoint 5\ncheckpoint 6\ncheckpoint 7\ncheckpoint 8\ncheckpoint 9\ncheckpoint 10\ncheckpoint 11\ncheckpoint 12\ncheckpoint 13\ncheckpoint 14\ncheckpoint 15\ndone\n"
    }
   ],
   "source": [
    "get_tweets(1000, \"2017-03-28\", \"2017-03-29\", \"pepsi\", \"2017-03-28-pepsi.csv\")\n",
    "print(\"checkpoint 1\")\n",
    "get_tweets(1000, \"2017-03-29\", \"2017-03-30\", \"pepsi\", \"2017-03-29-pepsi.csv\")\n",
    "print(\"checkpoint 1\")\n",
    "get_tweets(1000, \"2017-03-30\", \"2017-03-31\", \"pepsi\", \"2017-03-30-pepsi.csv\")\n",
    "print(\"checkpoint 2\")\n",
    "get_tweets(1000, \"2017-03-31\", \"2017-04-01\", \"pepsi\", \"2017-03-31-pepsi.csv\")\n",
    "print(\"checkpoint 3\")\n",
    "get_tweets(1000, \"2017-04-01\", \"2017-04-02\", \"pepsi\", \"2017-04-01-pepsi.csv\")\n",
    "print(\"checkpoint 4\")\n",
    "get_tweets(1000, \"2017-04-02\", \"2017-04-03\", \"pepsi\", \"2017-04-02-pepsi.csv\")\n",
    "print(\"checkpoint 5\")\n",
    "get_tweets(1000, \"2017-04-03\", \"2017-04-04\", \"pepsi\", \"2017-04-03-pepsi.csv\")\n",
    "print(\"checkpoint 6\")\n",
    "get_tweets(1000, \"2017-04-04\", \"2017-04-05\", \"pepsi\", \"2017-04-04-pepsi.csv\")\n",
    "print(\"checkpoint 7\")\n",
    "get_tweets(1000, \"2017-04-05\", \"2017-04-06\", \"pepsi\", \"2017-04-05-pepsi.csv\")\n",
    "print(\"checkpoint 8\")\n",
    "get_tweets(1000, \"2017-04-06\", \"2017-04-07\", \"pepsi\", \"2017-04-06-pepsi.csv\")\n",
    "print(\"checkpoint 9\")\n",
    "get_tweets(1000, \"2017-04-07\", \"2017-04-08\", \"pepsi\", \"2017-04-07-pepsi.csv\")\n",
    "print(\"checkpoint 10\")\n",
    "get_tweets(1000, \"2017-04-08\", \"2017-04-09\", \"pepsi\", \"2017-04-08-pepsi.csv\")\n",
    "print(\"checkpoint 11\")\n",
    "get_tweets(1000, \"2017-04-09\", \"2017-04-10\", \"pepsi\", \"2017-04-09-pepsi.csv\")\n",
    "print(\"checkpoint 12\")\n",
    "get_tweets(1000, \"2017-04-10\", \"2017-04-11\", \"pepsi\", \"2017-04-10-pepsi.csv\")\n",
    "print(\"checkpoint 13\")\n",
    "get_tweets(1000, \"2017-04-11\", \"2017-04-12\", \"pepsi\", \"2017-04-11-pepsi.csv\")\n",
    "print(\"checkpoint 14\")\n",
    "get_tweets(1000, \"2017-04-12\", \"2017-04-13\", \"pepsi\", \"2017-04-12-pepsi.csv\")\n",
    "print(\"checkpoint 15\")\n",
    "get_tweets(1000, \"2017-04-13\", \"2017-04-14\", \"pepsi\", \"2017-04-13-pepsi.csv\")\n",
    "print(\"done\")"
   ]
  }
 ]
}